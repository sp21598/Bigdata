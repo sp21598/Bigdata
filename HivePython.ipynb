{
 "cells": [
  {
   "cell_type": "markdown",
   "id": "2bc8cfbc",
   "metadata": {},
   "source": [
    "# Select Query Operation"
   ]
  },
  {
   "cell_type": "code",
   "execution_count": null,
   "id": "891af030",
   "metadata": {},
   "outputs": [],
   "source": [
    "from pyhive import hive\n",
    "host_name = \"192.168.56.101\"\n",
    "port = 22\n",
    "user = \"cloudera\"\n",
    "password = \"cloudera\"\n",
    "database=\"default\"\n",
    "\n",
    "try:  \n",
    "    conn = hive.Connection(host=host_name, port=port, username=user, password=password,\n",
    "                           database=database, auth='CUSTOM')\n",
    "    cur = conn.cursor()\n",
    "    cur.execute('select *  from airqualityuci_duplicate limit 10')\n",
    "    result = cur.fetchall()\n",
    "    print(result)\n",
    "except Exception as e:\n",
    "    logging.error(str(e))"
   ]
  },
  {
   "cell_type": "markdown",
   "id": "0e28e6db",
   "metadata": {},
   "source": [
    "# Join operation"
   ]
  },
  {
   "cell_type": "code",
   "execution_count": null,
   "id": "7248e0b5",
   "metadata": {},
   "outputs": [],
   "source": [
    "from pyhive import hive\n",
    "host_name = \"192.168.56.101\"\n",
    "port = 22\n",
    "user = \"cloudera\"\n",
    "password = \"cloudera\"\n",
    "database=\"hive_class_b1\"\n",
    "\n",
    "try:  \n",
    "    conn = hive.Connection(host=host_name, port=port, username=user, password=password,\n",
    "                           database=database, auth='CUSTOM')\n",
    "    cur = conn.cursor()\n",
    "    cur.execute('select * from customers c left join order o on c.id = o.CUSTOMER_ID')\n",
    "    result = cur.fetchall()\n",
    "    print(result)\n",
    "except Exception as e:\n",
    "    logging.error(str(e))"
   ]
  },
  {
   "cell_type": "markdown",
   "id": "4f8ee01d",
   "metadata": {},
   "source": [
    "# Drop Table operation "
   ]
  },
  {
   "cell_type": "code",
   "execution_count": null,
   "id": "247bf93c",
   "metadata": {},
   "outputs": [],
   "source": [
    "from pyhive import hive\n",
    "host_name = \"192.168.56.101\"\n",
    "port = 22\n",
    "user = \"cloudera\"\n",
    "password = \"cloudera\"\n",
    "database=\"hive_class_b1\"\n",
    "\n",
    "\n",
    "try:\n",
    "    conn = hive.Connection(host=host_name, port=port, username=user, password=password,\n",
    "                           database=database, auth='CUSTOM')\n",
    "    cur = conn.cursor()\n",
    "    cur.execute('drop table customers')\n",
    "except Exception as e:\n",
    "    logging.error(str(e))\n"
   ]
  },
  {
   "cell_type": "markdown",
   "id": "17e865fe",
   "metadata": {},
   "source": [
    "# Filter"
   ]
  },
  {
   "cell_type": "code",
   "execution_count": null,
   "id": "576551e2",
   "metadata": {},
   "outputs": [],
   "source": [
    "from pyhive import hive\n",
    "host_name = \"192.168.56.101\"\n",
    "port = 22\n",
    "user = \"cloudera\"\n",
    "password = \"cloudera\"\n",
    "database=\"default\"\n",
    "\n",
    "try:  \n",
    "    conn = hive.Connection(host=host_name, port=port, username=user, password=password,\n",
    "                           database=database, auth='CUSTOM')\n",
    "    cur = conn.cursor()\n",
    "    cur.execute('select *  from airqualityuci_duplicate where date='31/12/2004')\n",
    "    result = cur.fetchall()\n",
    "    print(result)\n",
    "except Exception as e:\n",
    "    logging.error(str(e))\n",
    "\n"
   ]
  }
 ],
 "metadata": {
  "kernelspec": {
   "display_name": "Python 3 (ipykernel)",
   "language": "python",
   "name": "python3"
  },
  "language_info": {
   "codemirror_mode": {
    "name": "ipython",
    "version": 3
   },
   "file_extension": ".py",
   "mimetype": "text/x-python",
   "name": "python",
   "nbconvert_exporter": "python",
   "pygments_lexer": "ipython3",
   "version": "3.10.7"
  }
 },
 "nbformat": 4,
 "nbformat_minor": 5
}
